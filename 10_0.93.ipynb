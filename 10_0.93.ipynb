{
  "nbformat": 4,
  "nbformat_minor": 0,
  "metadata": {
    "colab": {
      "name": "Copy of [homework]fine-tuning.ipynb",
      "version": "0.3.2",
      "provenance": [],
      "toc_visible": true,
      "include_colab_link": true
    },
    "language_info": {
      "codemirror_mode": {
        "name": "ipython",
        "version": 3
      },
      "file_extension": ".py",
      "mimetype": "text/x-python",
      "name": "python",
      "nbconvert_exporter": "python",
      "pygments_lexer": "ipython3",
      "version": "3.7.3"
    },
    "kernelspec": {
      "name": "python3",
      "display_name": "Python 3"
    },
    "accelerator": "GPU"
  },
  "cells": [
    {
      "cell_type": "markdown",
      "metadata": {
        "id": "view-in-github",
        "colab_type": "text"
      },
      "source": [
        "<a href=\"https://colab.research.google.com/github/Khurshudov/MIPT9/blob/master/10_0.93.ipynb\" target=\"_parent\"><img src=\"https://colab.research.google.com/assets/colab-badge.svg\" alt=\"Open In Colab\"/></a>"
      ]
    },
    {
      "cell_type": "markdown",
      "metadata": {
        "id": "dBco-TbRVBRJ",
        "colab_type": "text"
      },
      "source": [
        "<p style=\"align: center;\"><img src=\"https://static.tildacdn.com/tild6636-3531-4239-b465-376364646465/Deep_Learning_School.png\", width=300, height=300></p>\n",
        "\n",
        "<h3 style=\"text-align: center;\"><b>Физтех-Школа Прикладной математики и информатики (ФПМИ) МФТИ</b></h3>\n",
        "\n",
        "--- \n",
        "# [kaggle] Классификация дорожных знаков"
      ]
    },
    {
      "cell_type": "markdown",
      "metadata": {
        "id": "LtHS_3mjVBRK",
        "colab_type": "text"
      },
      "source": [
        "# Использование предобученных нейросетей (transfer learning)"
      ]
    },
    {
      "cell_type": "markdown",
      "metadata": {
        "id": "PBD_kAlcVBRL",
        "colab_type": "text"
      },
      "source": [
        "### В этом ноутбуке вам предлагается посоревноваться в классификации дорожных знаков Швеции. \n",
        "Вики: https://commons.wikimedia.org/wiki/Road_signs_in_Sweden \n",
        "\n",
        "Kaggle: https://www.kaggle.com/c/sweden-traffic-signs-classification"
      ]
    },
    {
      "cell_type": "markdown",
      "metadata": {
        "id": "PQsTsDi3VBRL",
        "colab_type": "text"
      },
      "source": [
        "asdasd\n",
        "Существует распространённый и очень эффективный подход к обучению глубоких нейросетей на маленьком датасете изображений. Можно использовать предобученную нейросеть. Предобученная нейросеть - это нейросеть с сохранёнными весами, которая была обучена на большом датасете, обычно на действительно большом объёме данных вроде ImageNet. Если этот оригинальный датасет достаточно большой и исчерпывающий, то пространственная иерархия фичей, выученная нейросетью может быть использована как обобщённая модель визуального мира, и, таким образом, эти фичи могут быть полезны в разных задачах машинного зрения, хотя новые задачи могут иметь совершенно другие классы, чем в оригинальном датасете."
      ]
    },
    {
      "cell_type": "markdown",
      "metadata": {
        "id": "dWouqbKJVBRM",
        "colab_type": "text"
      },
      "source": [
        "Например, обучив нейросеть на ImageNet (где классы в основном животные и бытовые объекты), её можно использовать в задаче с совершенно другими доменами, к примеру, нахождение мебели на изображениях. Такая переносимость выученных фичей на разные задачи есть ключевое преимущество глубинного обучения над классическими подходами. И это делает глубинное обучение крайне эффективным на задачах с \"маленькими\" данными."
      ]
    },
    {
      "cell_type": "markdown",
      "metadata": {
        "id": "oW9eNglfVBRN",
        "colab_type": "text"
      },
      "source": [
        "Существует два подхода к использованию предобученных сетей: **feature extraction (извлекатель фичей)** and **fine-tuning (тонкая настройка)**."
      ]
    },
    {
      "cell_type": "markdown",
      "metadata": {
        "id": "2ixbaFfpVBRN",
        "colab_type": "text"
      },
      "source": [
        "*Дополнительно:*  \n",
        "* в этой статье рассказывается о классификации знаков и как улучшить скор, но код под TensorFlow :P  \n",
        " https://navoshta.com/traffic-signs-classification/\n",
        "* а вот здесь можно достать **много** (в 15 раз больше, чем у нас) данных как раз о дорожных знаках, но из Германии.  \n",
        "https://www.kaggle.com/meowmeowmeowmeowmeow/gtsrb-german-traffic-sign/  \n",
        "\n",
        "Попробуйте разные подходы, имея в распоряжении [этот датасет](https://www.kaggle.com/meowmeowmeowmeowmeow/gtsrb-german-traffic-sign/):\n",
        " 1. обучите на нём нейросеть из семинара №9 или любую из [известных архитектур](https://pytorch.org/docs/stable/torchvision/models.html)\n",
        " 2. предсказывайте похожие классы напрямую (знаки ограничения скорости 90)  \n",
        " 3. fine-tuning сети, обученной на дорогах Германии под дороги Швеции"
      ]
    },
    {
      "cell_type": "markdown",
      "metadata": {
        "id": "V8aix_yrVBRO",
        "colab_type": "text"
      },
      "source": [
        "## Ниже предоставлен base-line для соревнования"
      ]
    },
    {
      "cell_type": "markdown",
      "metadata": {
        "id": "3i0TS1SfVBRP",
        "colab_type": "text"
      },
      "source": [
        "Это простой классификатор(CNN) из семинара №9, т.е. **предобученные сети не использованы**."
      ]
    },
    {
      "cell_type": "markdown",
      "metadata": {
        "id": "S6fzViB2VBRP",
        "colab_type": "text"
      },
      "source": [
        "Вам предлагается используя код и материалы с семинара достичь лучших результатов и вырваться в лидеры нашего kaggle!"
      ]
    },
    {
      "cell_type": "code",
      "metadata": {
        "id": "C3VHDyVeVBRQ",
        "colab_type": "code",
        "colab": {}
      },
      "source": [
        "# Установим размер классифицируемых изображений\n",
        "PIC_SIZE = 50\n",
        "# Путь к предобработанным данным\n",
        "data_path = 'data//'\n",
        "# Путь, куда сохраним модель\n",
        "model_save_path = 'signs_classifier.pth'"
      ],
      "execution_count": 0,
      "outputs": []
    },
    {
      "cell_type": "code",
      "metadata": {
        "id": "loS9vS_bVBRT",
        "colab_type": "code",
        "colab": {
          "base_uri": "https://localhost:8080/",
          "height": 51
        },
        "outputId": "d51b2920-1f5e-4f49-ffe1-8800582ab834"
      },
      "source": [
        "import pandas as pd\n",
        "import numpy as np\n",
        "import torch\n",
        "import os\n",
        "from PIL import Image\n",
        "import torchvision\n",
        "import matplotlib.pyplot as plt\n",
        "\n",
        "print('Версия torch', torch.__version__)\n",
        "device = torch.device('cuda:0' if torch.cuda.is_available() else 'cpu')\n",
        "if torch.cuda.is_available():\n",
        "    print(torch.cuda.get_device_name(device))\n",
        "else:\n",
        "    print('Using CPU')"
      ],
      "execution_count": 2,
      "outputs": [
        {
          "output_type": "stream",
          "text": [
            "Версия torch 1.1.0\n",
            "Tesla T4\n"
          ],
          "name": "stdout"
        }
      ]
    },
    {
      "cell_type": "markdown",
      "metadata": {
        "id": "NxQSPe_YVBRV",
        "colab_type": "text"
      },
      "source": [
        "Ноутбук создан под версией torch '1.0.1'"
      ]
    },
    {
      "cell_type": "markdown",
      "metadata": {
        "id": "Q-ouX9TtVBRV",
        "colab_type": "text"
      },
      "source": [
        "### Создадим класс-обёртку для нашего датасета"
      ]
    },
    {
      "cell_type": "code",
      "metadata": {
        "id": "braR7MNKVBRW",
        "colab_type": "code",
        "colab": {}
      },
      "source": [
        "import torchvision.transforms as transforms\n",
        "from torch.utils.data import Dataset\n",
        "\n",
        "class SignsDataset(Dataset):\n",
        "    \"\"\"Road signs dataset.\"\"\"\n",
        "\n",
        "    def __init__(self, csv_file, root_dir, transform=None, no_labels=False):\n",
        "        \"\"\"\n",
        "        Args:\n",
        "            csv_file (string): Path to the csv file with annotations.\n",
        "            root_dir (string): Directory with all the images.\n",
        "            transform (callable, optional): Optional transform to be applied\n",
        "                on a sample.\n",
        "        \"\"\"\n",
        "        self.signs_frame = pd.read_csv(csv_file)\n",
        "        print(f'{len(self.signs_frame)} samples loaded')\n",
        "        \n",
        "        self.root_dir = root_dir\n",
        "        self.transform = transform\n",
        "        self.no_labels = no_labels\n",
        "        \n",
        "        # В тестовом датасете нет ответов\n",
        "        if not self.no_labels:\n",
        "            # Cоздаём массив label->index и массив index->label\n",
        "            self.labels = self.signs_frame['label'].unique()\n",
        "            self.label_indexes = {}\n",
        "            for i, label in enumerate(self.labels):\n",
        "                self.label_indexes[label] = i\n",
        "\n",
        "    def __len__(self):\n",
        "        return len(self.signs_frame)\n",
        "\n",
        "    def __getitem__(self, idx):\n",
        "        # Загрузим изображение и приведём к размеру 50х50\n",
        "        img_name = self.root_dir + self.signs_frame.iloc[idx, 0]\n",
        "        image = Image.open(img_name)\n",
        "        image = image.resize((PIC_SIZE, PIC_SIZE), Image.ANTIALIAS)\n",
        "        \n",
        "        # Применим преобразования изображения (например аугментацию)\n",
        "        if self.transform:\n",
        "            image = self.transform(image)\n",
        "            \n",
        "        # Для тестового датасета не нужны ответы\n",
        "        if not self.no_labels:\n",
        "            # В роли ответа будем давать номер label\n",
        "            label_string = self.signs_frame.iloc[idx, 1]\n",
        "            label = self.label_indexes[label_string]\n",
        "        \n",
        "            sample = {'image': image, 'label': label}\n",
        "        else:\n",
        "            sample = {'image': image}\n",
        "            \n",
        "        return sample"
      ],
      "execution_count": 0,
      "outputs": []
    },
    {
      "cell_type": "markdown",
      "metadata": {
        "id": "2GbgtqEsVBRY",
        "colab_type": "text"
      },
      "source": [
        "### Создадим DataLoader'ы, облегчающие закрузку и сэмплинг данных"
      ]
    },
    {
      "cell_type": "code",
      "metadata": {
        "id": "uS8Ydll-aVI1",
        "colab_type": "code",
        "colab": {
          "base_uri": "https://localhost:8080/",
          "height": 189
        },
        "outputId": "1b1d75ab-0f1c-42f3-c288-3c962f4dde9e"
      },
      "source": [
        "from google.colab import drive\n",
        "drive.mount('/content/gdrive/')"
      ],
      "execution_count": 4,
      "outputs": [
        {
          "output_type": "stream",
          "text": [
            "Go to this URL in a browser: https://accounts.google.com/o/oauth2/auth?client_id=947318989803-6bn6qk8qdgf4n4g3pfee6491hc0brc4i.apps.googleusercontent.com&redirect_uri=urn%3Aietf%3Awg%3Aoauth%3A2.0%3Aoob&scope=email%20https%3A%2F%2Fwww.googleapis.com%2Fauth%2Fdocs.test%20https%3A%2F%2Fwww.googleapis.com%2Fauth%2Fdrive%20https%3A%2F%2Fwww.googleapis.com%2Fauth%2Fdrive.photos.readonly%20https%3A%2F%2Fwww.googleapis.com%2Fauth%2Fpeopleapi.readonly&response_type=code\n",
            "\n",
            "Enter your authorization code:\n",
            "··········\n",
            "Mounted at /content/gdrive/\n"
          ],
          "name": "stdout"
        }
      ]
    },
    {
      "cell_type": "code",
      "metadata": {
        "id": "aYBKu97CaX92",
        "colab_type": "code",
        "colab": {}
      },
      "source": [
        "!unzip -q /content/gdrive/My\\ Drive/10/sweden-traffic-signs-classification.zip -d data\n",
        "!unzip -q /content/gdrive/My\\ Drive/10/data.zip -d data"
      ],
      "execution_count": 0,
      "outputs": []
    },
    {
      "cell_type": "code",
      "metadata": {
        "id": "GdcM8hClVBRY",
        "colab_type": "code",
        "colab": {
          "base_uri": "https://localhost:8080/",
          "height": 34
        },
        "outputId": "1aa832db-73eb-4d1d-f249-75084705e00e"
      },
      "source": [
        "from torch.utils.data.sampler import SubsetRandomSampler\n",
        "from torch.utils.data import DataLoader\n",
        "\n",
        "# Инициализируем загрузчик датасета (класс выше)\n",
        "dataset = SignsDataset(data_path + 'train.csv', \n",
        "                       data_path + 'data//', \n",
        "                       torchvision.transforms.ToTensor())\n",
        "\n",
        "indicies = np.arange(len(dataset))\n",
        "\n",
        "np.random.seed(0)\n",
        "np.random.shuffle(indicies)\n",
        "\n",
        "# Разбиение датасета на train и validation\n",
        "train_sampler = SubsetRandomSampler(indicies[:int(len(dataset)*0.5)])\n",
        "validation_sampler = SubsetRandomSampler(indicies[int(len(dataset)*0.5):])\n",
        "\n",
        "# DataLoader достаёт данные из dataset батчами\n",
        "signsTrainLoader = DataLoader(dataset, batch_size=16, sampler=train_sampler)\n",
        "signsValidationLoader = DataLoader(dataset, batch_size=32, sampler=validation_sampler)"
      ],
      "execution_count": 6,
      "outputs": [
        {
          "output_type": "stream",
          "text": [
            "2503 samples loaded\n"
          ],
          "name": "stdout"
        }
      ]
    },
    {
      "cell_type": "code",
      "metadata": {
        "id": "1YD8HcoaVBRa",
        "colab_type": "code",
        "colab": {
          "base_uri": "https://localhost:8080/",
          "height": 286
        },
        "outputId": "a63a06db-eff0-4d96-af57-1a1a603bcff1"
      },
      "source": [
        "# Посмотрим, что выдаёт одна итерация DataLoader\n",
        "batch = next(iter(signsTrainLoader))\n",
        "img = batch['image'][0]\n",
        "img = np.transpose(img, (1, 2, 0))\n",
        "\n",
        "plt.imshow(img)"
      ],
      "execution_count": 7,
      "outputs": [
        {
          "output_type": "execute_result",
          "data": {
            "text/plain": [
              "<matplotlib.image.AxesImage at 0x7fd39e42c518>"
            ]
          },
          "metadata": {
            "tags": []
          },
          "execution_count": 7
        },
        {
          "output_type": "display_data",
          "data": {
            "image/png": "[encoded data removed]",
            "text/plain": [
              "<Figure size 432x288 with 1 Axes>"
            ]
          },
          "metadata": {
            "tags": []
          }
        }
      ]
    },
    {
      "cell_type": "markdown",
      "metadata": {
        "id": "-YSkqTLpVBRe",
        "colab_type": "text"
      },
      "source": [
        "### Данные сильно несбалансированы (unbalanced dataset)\n",
        "### Задача\n",
        "    Взгляните на количество представителей каждого класса \n",
        "    К чему это может привести?\n",
        "    \n",
        "    Подумайте о вариантах исправления проблемы\n",
        "#### upsampling, аугментация данных"
      ]
    },
    {
      "cell_type": "code",
      "metadata": {
        "id": "V_aPODa0VBRe",
        "colab_type": "code",
        "colab": {
          "base_uri": "https://localhost:8080/",
          "height": 357
        },
        "outputId": "39c6f34b-491d-49d6-a02d-288ca62024be"
      },
      "source": [
        "df = dataset.signs_frame\n",
        "classes_number = df['label'].nunique()\n",
        "print('Classes number:', classes_number)\n",
        "df.groupby('label')['file_name'].nunique()"
      ],
      "execution_count": 8,
      "outputs": [
        {
          "output_type": "stream",
          "text": [
            "Classes number: 17\n"
          ],
          "name": "stdout"
        },
        {
          "output_type": "execute_result",
          "data": {
            "text/plain": [
              "label\n",
              "100_SIGN                    62\n",
              "110_SIGN                    18\n",
              "30_SIGN                     30\n",
              "50_SIGN                    118\n",
              "60_SIGN                     19\n",
              "70_SIGN                    150\n",
              "80_SIGN                     61\n",
              "90_SIGN                     16\n",
              "GIVE_WAY                   143\n",
              "NO_PARKING                  45\n",
              "NO_STOPPING_NO_STANDING     51\n",
              "OTHER                      322\n",
              "PASS_EITHER_SIDE            19\n",
              "PASS_RIGHT_SIDE            364\n",
              "PEDESTRIAN_CROSSING        630\n",
              "PRIORITY_ROAD              438\n",
              "STOP                        17\n",
              "Name: file_name, dtype: int64"
            ]
          },
          "metadata": {
            "tags": []
          },
          "execution_count": 8
        }
      ]
    },
    {
      "cell_type": "markdown",
      "metadata": {
        "id": "lLmHhzunVBRg",
        "colab_type": "text"
      },
      "source": [
        "## Создаём и обучаем сеть"
      ]
    },
    {
      "cell_type": "code",
      "metadata": {
        "id": "Uv8_ByrhVBRh",
        "colab_type": "code",
        "colab": {}
      },
      "source": [
        "import torch.nn as nn\n",
        "import torch.nn.functional as F  # Functional\n",
        "import torch\n",
        "from torchvision import datasets, models, transforms\n",
        "import torch.optim as optim\n",
        "from torch.optim import lr_scheduler\n",
        "import numpy as np\n",
        "\n",
        "train_on_gpu = torch.cuda.is_available()"
      ],
      "execution_count": 0,
      "outputs": []
    },
    {
      "cell_type": "code",
      "metadata": {
        "id": "9jC_SKTahCzE",
        "colab_type": "code",
        "colab": {}
      },
      "source": [
        "layers_to_unfreeze = 0\n",
        "\n",
        "# Ваш код здесь\n",
        "model_extractor = models.vgg16(pretrained=True)\n",
        "\n",
        "# замораживаем параметры (веса)\n",
        "for param in list(model_extractor.parameters())[:-layers_to_unfreeze]:\n",
        "    param.requires_grad = False\n",
        "\n",
        "# Заменяем Fully-Connected слой на наш линейный классификатор\n",
        "model_extractor.classifier = nn.Linear(in_features=25088, out_features=17, bias=True)\n",
        "\n",
        "# Использовать ли GPU\n",
        "if True:\n",
        "    model_extractor = model_extractor.cuda()\n",
        "\n",
        "# В качестве cost function используем кросс-энтропию\n",
        "loss_fn = nn.CrossEntropyLoss()\n",
        "\n",
        "# Обучаем только классификатор\n",
        "optimizer = optim.SGD(model_extractor.classifier.parameters(), lr=0.001, momentum=0.9)\n",
        "\n",
        "# Умножает learning_rate на 0.1 каждые 7 эпох (это одна из эвристик, не было на лекциях)\n",
        "exp_lr_scheduler = lr_scheduler.StepLR(optimizer, step_size=7, gamma=0.1)"
      ],
      "execution_count": 0,
      "outputs": []
    },
    {
      "cell_type": "code",
      "metadata": {
        "id": "GnCMgXIGVBRi",
        "colab_type": "code",
        "colab": {}
      },
      "source": [
        "# Класс свёрточной нейронной сети\n",
        "class SimpleConvNet(nn.Module):\n",
        "    def __init__(self, class_number):\n",
        "        # вызов конструктора предка\n",
        "        super(SimpleConvNet, self).__init__()\n",
        "        # необходмо заранее знать, сколько каналов у картинки (сейчас = 3),\n",
        "        # которую будем подавать в сеть, больше ничего\n",
        "        # про входящие картинки знать не нужно\n",
        "        self.conv1 = nn.Conv2d(in_channels=3, out_channels=6, kernel_size=5)\n",
        "        self.pool = nn.MaxPool2d(kernel_size=2, stride=2)\n",
        "        self.conv2 = nn.Conv2d(in_channels=6, out_channels=16, kernel_size=5)\n",
        "        \n",
        "        self.fc1 = nn.Linear(16 * 9 * 9, 120)  # !!! \n",
        "        \n",
        "        self.fc2 = nn.Linear(120, 84)\n",
        "        self.fc3 = nn.Linear(84, class_number)\n",
        "\n",
        "    def forward(self, x):\n",
        "        x = self.pool(F.relu(self.conv1(x)))\n",
        "        x = self.pool(F.relu(self.conv2(x)))\n",
        "        \n",
        "        # Подаём картинку на вход и увидим, сколько элементов на входе первого fully connected!\n",
        "        # Подробнее замечание снизу (оно из прошлого семинара)\n",
        "        # print(x.shape)\n",
        "        ## ИЛИ ЖЕ МОЖНО ЭТО РАССЧИТАТЬ, НО ЭТО ДОЛЬШЕ\n",
        "        \n",
        "        x = x.view(-1, 16 * 9 * 9)  # !!! Аналог Flatten в keras\n",
        "        \n",
        "        x = F.relu(self.fc1(x))\n",
        "        x = F.relu(self.fc2(x))\n",
        "        x = self.fc3(x)\n",
        "        # Функция акктивации отсутствует\n",
        "        # torch.nn.CrossEntropyLoss разбирается с этим сам\n",
        "        return x"
      ],
      "execution_count": 0,
      "outputs": []
    },
    {
      "cell_type": "code",
      "metadata": {
        "id": "XjQssOLbjiDM",
        "colab_type": "code",
        "colab": {
          "base_uri": "https://localhost:8080/",
          "height": 34
        },
        "outputId": "e540055c-93f7-43e3-f1c6-433a78a1af8a"
      },
      "source": [
        "classes_number"
      ],
      "execution_count": 17,
      "outputs": [
        {
          "output_type": "execute_result",
          "data": {
            "text/plain": [
              "17"
            ]
          },
          "metadata": {
            "tags": []
          },
          "execution_count": 17
        }
      ]
    },
    {
      "cell_type": "markdown",
      "metadata": {
        "id": "sTd5QlKpVBRk",
        "colab_type": "text"
      },
      "source": [
        "#### Примечание из прошлого семинара"
      ]
    },
    {
      "cell_type": "markdown",
      "metadata": {
        "id": "FWNbf8aIVBRk",
        "colab_type": "text"
      },
      "source": [
        "Важное примечание: Вы можете заметить, что в строчках с #!!! есть не очень понятный сходу $9 * 9 * 16$. Это -- размерность картинки перед FC-слоями (H x W x C), тут её приходиться высчитывать вручную (в Keras, например, .Flatten() всё делает за Вас). Однако есть один лайфхак -- просто сделайте в forward() print(x.shape) (закомментированная строка). Вы увидите размер (batch_size, C, H, W) -- нужно перемножить все, кроме первого (batch_size), это и будет первая размерность Linear(), и именно в C H W нужно \"развернуть\" x перед подачей в Linear().\n",
        "\n",
        "То есть нужно будет запустить цикл с обучением первый раз с print() и сделать после него break, посчитать размер, вписать его в нужные места и стереть print() и break."
      ]
    },
    {
      "cell_type": "code",
      "metadata": {
        "id": "HPi6fn26VBRl",
        "colab_type": "code",
        "colab": {}
      },
      "source": [
        "# Создаём сеть\n",
        "cnn = model_extractor.to(device)"
      ],
      "execution_count": 0,
      "outputs": []
    },
    {
      "cell_type": "code",
      "metadata": {
        "id": "zyP1gCLMVBRm",
        "colab_type": "code",
        "colab": {
          "base_uri": "https://localhost:8080/",
          "height": 85
        },
        "outputId": "cb56dfd5-5c46-4cee-ea9a-00338334d6ad"
      },
      "source": [
        "# Взглянем на вывод\n",
        "batch = next(iter(signsTrainLoader))\n",
        "cnn(batch['image'].to(device))[0]"
      ],
      "execution_count": 29,
      "outputs": [
        {
          "output_type": "execute_result",
          "data": {
            "text/plain": [
              "tensor([ -7.6051,  -8.6419,  -9.8919,  -5.2429,  -5.9827,  -9.1159,  -4.5496,\n",
              "         -8.7586, -13.9575, -11.8585,  -4.4917, -10.4404, -15.0321,  -8.6438,\n",
              "          8.2639, -11.5448, -11.2578], device='cuda:0',\n",
              "       grad_fn=<SelectBackward>)"
            ]
          },
          "metadata": {
            "tags": []
          },
          "execution_count": 29
        }
      ]
    },
    {
      "cell_type": "code",
      "metadata": {
        "id": "KWCWYFj8VBRo",
        "colab_type": "code",
        "colab": {
          "base_uri": "https://localhost:8080/",
          "height": 102
        },
        "outputId": "c5551817-10bf-437d-e4db-dcfd25eef546"
      },
      "source": [
        "from tqdm import tqdm_notebook\n",
        "\n",
        "# С помощью этого увидим, как сеть обучалась\n",
        "history = {'loss':[], 'val_loss':[]}\n",
        "\n",
        "# Выбираем функцию потерь\n",
        "loss_fn = torch.nn.CrossEntropyLoss()\n",
        "\n",
        "# Выбираем алгоритм оптимизации и learning_rate\n",
        "learning_rate = 1e-4\n",
        "optimizer = torch.optim.Adam(cnn.parameters(), lr=learning_rate)\n",
        "\n",
        "# Цикл обучения\n",
        "i = 0\n",
        "for epoch in tqdm_notebook(range(50)):\n",
        "\n",
        "    running_loss = 0.0\n",
        "    for batch in signsTrainLoader:\n",
        "        \n",
        "        # Так получаем текущий батч\n",
        "        X_batch, y_batch = batch['image'].to(device), batch['label'].to(device)\n",
        "        \n",
        "        # Обнуляем веса\n",
        "        optimizer.zero_grad()\n",
        "\n",
        "        # forward + backward + optimize\n",
        "        y_pred = cnn(X_batch)\n",
        "        loss = loss_fn(y_pred, y_batch)\n",
        "        loss.backward()\n",
        "        optimizer.step()\n",
        "\n",
        "        # Выведем текущий loss\n",
        "        running_loss += loss.item()\n",
        "        \n",
        "        # Пишем в лог каждые 50 батчей\n",
        "        if i % 50 == 49:\n",
        "            batch = next(iter(signsValidationLoader))\n",
        "            X_batch, y_batch = batch['image'].to(device), batch['label'].to(device)\n",
        "            y_pred = cnn(X_batch)\n",
        "            \n",
        "            history['loss'].append(loss.item())\n",
        "            history['val_loss'].append(loss_fn(y_pred, y_batch).item())\n",
        "        \n",
        "        # Выведем качество каждые 1000 батчей\n",
        "        if i % 1000 == 999:\n",
        "            print('[%d, %5d] loss: %.4f' % (epoch + 1, i + 1, running_loss))\n",
        "            running_loss = 0\n",
        "        i += 1\n",
        "\n",
        "# Сохраним модель\n",
        "torch.save(cnn.state_dict(), model_save_path)\n",
        "print('Обучение закончено')"
      ],
      "execution_count": 30,
      "outputs": [
        {
          "output_type": "display_data",
          "data": {
            "application/vnd.jupyter.widget-view+json": {
              "model_id": "7324898dcf2c44878be938f6936329cc",
              "version_minor": 0,
              "version_major": 2
            },
            "text/plain": [
              "HBox(children=(IntProgress(value=0, max=50), HTML(value='')))"
            ]
          },
          "metadata": {
            "tags": []
          }
        },
        {
          "output_type": "stream",
          "text": [
            "[13,  1000] loss: 0.0002\n",
            "[26,  2000] loss: 0.0000\n",
            "[38,  3000] loss: 0.0000\n",
            "\n",
            "Обучение закончено\n"
          ],
          "name": "stdout"
        }
      ]
    },
    {
      "cell_type": "markdown",
      "metadata": {
        "id": "NE18DvTxVBRq",
        "colab_type": "text"
      },
      "source": [
        "### Начертим кривые обучения"
      ]
    },
    {
      "cell_type": "code",
      "metadata": {
        "id": "k15KsSqzVBRq",
        "colab_type": "code",
        "colab": {
          "base_uri": "https://localhost:8080/",
          "height": 295
        },
        "outputId": "5de2a666-3729-40fd-bbdb-dbfe83693085"
      },
      "source": [
        "# Скользящее среднее\n",
        "def smooth_curve(points, factor=0.9):\n",
        "    smoothed_points = []\n",
        "    for point in points:\n",
        "        if smoothed_points:\n",
        "            previous = smoothed_points[-1]\n",
        "            smoothed_points.append(previous * factor + point * (1 - factor))\n",
        "        else:\n",
        "            smoothed_points.append(point)\n",
        "    return smoothed_points\n",
        "\n",
        "plt.clf()\n",
        "loss_values = smooth_curve(history['loss'])\n",
        "val_loss_values = smooth_curve(history['val_loss'])\n",
        "epochs = np.arange(len(loss_values))\n",
        "plt.plot(epochs, loss_values, 'bo', label='Training loss')\n",
        "plt.plot(epochs, val_loss_values, 'b', label='Validation loss')\n",
        "plt.title('Training and validation loss')\n",
        "plt.xlabel('Epochs')\n",
        "plt.ylabel('Loss')\n",
        "plt.legend()\n",
        "plt.show()"
      ],
      "execution_count": 31,
      "outputs": [
        {
          "output_type": "display_data",
          "data": {
            "image/png": "[encoded data removed]",
            "text/plain": [
              "<Figure size 432x288 with 1 Axes>"
            ]
          },
          "metadata": {
            "tags": []
          }
        }
      ]
    },
    {
      "cell_type": "markdown",
      "metadata": {
        "id": "i14Zvq6wVBRs",
        "colab_type": "text"
      },
      "source": [
        "### Выведем confusion matrix"
      ]
    },
    {
      "cell_type": "code",
      "metadata": {
        "id": "sNrEqEJzVBRs",
        "colab_type": "code",
        "colab": {}
      },
      "source": [
        "import itertools\n",
        "    \n",
        "# Воспользуемся функцией из документации matplotlib, выводящей confusion matrix \n",
        "# Source https://scikit-learn.org/stable/auto_examples/model_selection/plot_confusion_matrix.html    \n",
        "def plot_confusion_matrix(cm, classes,\n",
        "                          normalize=False,\n",
        "                          title='Confusion matrix',\n",
        "                          cmap=plt.cm.Blues):\n",
        "    \"\"\"\n",
        "    This function prints and plots the confusion matrix.\n",
        "    Normalization can be applied by setting `normalize=True`.\n",
        "    \"\"\"\n",
        "    cm = cm.T\n",
        "    if normalize:\n",
        "        cm = cm.astype('float') / cm.sum(axis=1)[:, np.newaxis]\n",
        "        print(\"Normalized confusion matrix\")\n",
        "    else:\n",
        "        print('Confusion matrix, without normalization')\n",
        "\n",
        "    #print(cm)\n",
        "    plt.figure(figsize=(16,11))\n",
        "    plt.imshow(cm, interpolation='nearest', cmap=cmap)\n",
        "    plt.title(title)\n",
        "    plt.colorbar()\n",
        "    tick_marks = np.arange(len(classes))\n",
        "    plt.xticks(tick_marks, classes, rotation=90)\n",
        "    plt.yticks(tick_marks, classes)\n",
        "\n",
        "    fmt = '.2f' if normalize else 'd'\n",
        "    thresh = cm.max() / 2.\n",
        "    for i, j in itertools.product(range(cm.shape[0]), range(cm.shape[1])):\n",
        "        plt.text(j, i, format(cm[i, j], fmt),\n",
        "                 horizontalalignment=\"center\",\n",
        "                 color=\"white\" if cm[i, j] > thresh else \"black\")\n",
        "\n",
        "    plt.ylabel('True label')\n",
        "    plt.xlabel('Predicted label')\n",
        "\n",
        "    plt.tight_layout()"
      ],
      "execution_count": 0,
      "outputs": []
    },
    {
      "cell_type": "code",
      "metadata": {
        "scrolled": false,
        "id": "wQJzwM8IVBRu",
        "colab_type": "code",
        "colab": {
          "base_uri": "https://localhost:8080/",
          "height": 818
        },
        "outputId": "af8df9f5-dfe2-47e4-f04d-1b7a3ce39879"
      },
      "source": [
        "from sklearn.metrics import confusion_matrix\n",
        "\n",
        "y_test_all = torch.Tensor().long()\n",
        "predictions_all = torch.Tensor().long()\n",
        "\n",
        "# Пройдём по всему validation датасету и запишем ответы сети\n",
        "with torch.no_grad():\n",
        "    for batch in signsValidationLoader:\n",
        "        predictions = cnn(batch['image'].to(device))\n",
        "        y_test = batch['label']\n",
        "        _, predictions = torch.max(predictions.cpu(), 1)\n",
        "        \n",
        "        # Аналог append для list\n",
        "        y_test_all = torch.cat((y_test_all, y_test), 0)\n",
        "        predictions_all = torch.cat((predictions_all, predictions), 0)\n",
        "\n",
        "feature_names = signsTrainLoader.dataset.labels\n",
        "\n",
        "y_test_all = y_test_all.numpy()\n",
        "predictions_all = predictions_all.numpy()\n",
        "\n",
        "# Функция из sklearn, создаёт confusion матрицу\n",
        "cm = confusion_matrix(y_test_all, predictions_all, np.arange(classes_number))\n",
        "# Выведем её\n",
        "plot_confusion_matrix(cm, dataset.labels, normalize=True)"
      ],
      "execution_count": 33,
      "outputs": [
        {
          "output_type": "stream",
          "text": [
            "Normalized confusion matrix\n"
          ],
          "name": "stdout"
        },
        {
          "output_type": "display_data",
          "data": {
            "image/png": "[encoded data removed]",
            "text/plain": [
              "<Figure size 1152x792 with 2 Axes>"
            ]
          },
          "metadata": {
            "tags": []
          }
        }
      ]
    },
    {
      "cell_type": "markdown",
      "metadata": {
        "id": "XbgfMskFVBRx",
        "colab_type": "text"
      },
      "source": [
        "### Задача\n",
        "    - какие выводы можно сделать из confusion matrix?"
      ]
    },
    {
      "cell_type": "markdown",
      "metadata": {
        "id": "ikJnhGIAVBRy",
        "colab_type": "text"
      },
      "source": [
        "### Выведем точность для каждого класса"
      ]
    },
    {
      "cell_type": "code",
      "metadata": {
        "scrolled": true,
        "id": "JEvv7PNFVBRy",
        "colab_type": "code",
        "colab": {
          "base_uri": "https://localhost:8080/",
          "height": 323
        },
        "outputId": "a8b3a451-ff31-436a-f287-a820d09959b5"
      },
      "source": [
        "class_correct = [0 for i in range(classes_number)]\n",
        "class_total = [0 for i in range(classes_number)]\n",
        "\n",
        "c = (predictions_all == y_test_all).squeeze()\n",
        "for i in range(len(predictions_all)):\n",
        "    label = predictions_all[i]            \n",
        "    class_correct[label] += c[i].item()\n",
        "    class_total[label] += 1\n",
        "\n",
        "print(class_total)\n",
        "\n",
        "for i in range(classes_number):\n",
        "    print('Accuracy of %5s : %2d %%' % (\n",
        "        (dataset.labels[i], (100 * class_correct[i] / class_total[i]) if class_total[i] != 0 else -1)))"
      ],
      "execution_count": 34,
      "outputs": [
        {
          "output_type": "stream",
          "text": [
            "[347, 210, 178, 139, 18, 8, 79, 48, 13, 70, 11, 31, 8, 27, 11, 24, 30]\n",
            "Accuracy of PEDESTRIAN_CROSSING : 97 %\n",
            "Accuracy of PRIORITY_ROAD : 98 %\n",
            "Accuracy of PASS_RIGHT_SIDE : 98 %\n",
            "Accuracy of OTHER : 97 %\n",
            "Accuracy of 30_SIGN : 77 %\n",
            "Accuracy of 110_SIGN : 100 %\n",
            "Accuracy of 70_SIGN : 100 %\n",
            "Accuracy of 50_SIGN : 93 %\n",
            "Accuracy of PASS_EITHER_SIDE : 100 %\n",
            "Accuracy of GIVE_WAY : 100 %\n",
            "Accuracy of 60_SIGN : 72 %\n",
            "Accuracy of 100_SIGN : 96 %\n",
            "Accuracy of  STOP : 100 %\n",
            "Accuracy of 80_SIGN : 96 %\n",
            "Accuracy of 90_SIGN : 100 %\n",
            "Accuracy of NO_PARKING : 95 %\n",
            "Accuracy of NO_STOPPING_NO_STANDING : 76 %\n"
          ],
          "name": "stdout"
        }
      ]
    },
    {
      "cell_type": "markdown",
      "metadata": {
        "id": "LtRrhmE2VBR0",
        "colab_type": "text"
      },
      "source": [
        "### Задача\n",
        "    - какая связь между confusion matrix и accuracy для каждого класса?\n",
        "    \n",
        "#### Числа на диагонали confusion matrix и есть эти accuracy"
      ]
    },
    {
      "cell_type": "markdown",
      "metadata": {
        "id": "iKDujWxJVBR0",
        "colab_type": "text"
      },
      "source": [
        "### Оценим качество на отдельных кадрах из validation'а"
      ]
    },
    {
      "cell_type": "code",
      "metadata": {
        "scrolled": false,
        "id": "A0HUoG3wVBR1",
        "colab_type": "code",
        "colab": {
          "base_uri": "https://localhost:8080/",
          "height": 303
        },
        "outputId": "de1e61ee-af6d-49c3-ebb9-67153296dda7"
      },
      "source": [
        "batch = next(iter(signsValidationLoader))\n",
        "predictions = cnn(batch['image'].to(device))\n",
        "y_test = batch['label']\n",
        "\n",
        "\n",
        "#print(predictions, y_test)\n",
        "_, predictions = torch.max(predictions, 1)\n",
        "\n",
        "img = batch['image'][0]\n",
        "img = np.transpose(img, (1, 2, 0))\n",
        "plt.imshow(img)\n",
        "\n",
        "print('Gound-true:', dataset.labels[batch['label'][0]])\n",
        "print('Prediction:', dataset.labels[predictions[0]])"
      ],
      "execution_count": 35,
      "outputs": [
        {
          "output_type": "stream",
          "text": [
            "Gound-true: PRIORITY_ROAD\n",
            "Prediction: PRIORITY_ROAD\n"
          ],
          "name": "stdout"
        },
        {
          "output_type": "display_data",
          "data": {
            "image/png": "[encoded data removed]",
            "text/plain": [
              "<Figure size 432x288 with 1 Axes>"
            ]
          },
          "metadata": {
            "tags": []
          }
        }
      ]
    },
    {
      "cell_type": "markdown",
      "metadata": {
        "id": "BjKQy6O6VBR2",
        "colab_type": "text"
      },
      "source": [
        "# Генерация файла ответов на test"
      ]
    },
    {
      "cell_type": "code",
      "metadata": {
        "id": "pW35-M3hVBR3",
        "colab_type": "code",
        "colab": {
          "base_uri": "https://localhost:8080/",
          "height": 34
        },
        "outputId": "b54dd966-1cef-4bdd-8865-47e465305655"
      },
      "source": [
        "from torch.utils.data import DataLoader\n",
        "\n",
        "# Инициализируем загрузчик датасета (класс выше)\n",
        "test_dataset = SignsDataset(data_path + 'test.csv', \n",
        "                       data_path + 'data//', \n",
        "                       torchvision.transforms.ToTensor(),\n",
        "                       no_labels=True)\n",
        "\n",
        "\n",
        "# DataLoader достаёт данные из dataset батчами\n",
        "signsTestLoader = DataLoader(test_dataset, batch_size=1)"
      ],
      "execution_count": 36,
      "outputs": [
        {
          "output_type": "stream",
          "text": [
            "610 samples loaded\n"
          ],
          "name": "stdout"
        }
      ]
    },
    {
      "cell_type": "code",
      "metadata": {
        "id": "Pz59HPwrVBR4",
        "colab_type": "code",
        "colab": {}
      },
      "source": [
        "answer = []\n",
        "\n",
        "for batch in signsTestLoader:\n",
        "    predictions = cnn(batch['image'].to(device))\n",
        "    _, predictions = torch.max(predictions, 1)\n",
        "    answer.append(dataset.labels[predictions[0]])    \n",
        "\n",
        "prediction_df = test_dataset.signs_frame\n",
        "    \n",
        "prediction_df['label'] = pd.Series(answer)\n",
        "prediction_df.to_csv('my_submission.csv', index=False)"
      ],
      "execution_count": 0,
      "outputs": []
    },
    {
      "cell_type": "markdown",
      "metadata": {
        "id": "EXXae6PwVBR6",
        "colab_type": "text"
      },
      "source": [
        "# Полезные ссылки"
      ]
    },
    {
      "cell_type": "markdown",
      "metadata": {
        "id": "ZLkds10mVBR6",
        "colab_type": "text"
      },
      "source": [
        "Лучшее руководство по matplotlib: https://matplotlib.org/faq/usage_faq.html"
      ]
    },
    {
      "cell_type": "markdown",
      "metadata": {
        "id": "Hbc0QrGRVBR7",
        "colab_type": "text"
      },
      "source": [
        "Автор: Мурашов Леонид"
      ]
    }
  ]
}